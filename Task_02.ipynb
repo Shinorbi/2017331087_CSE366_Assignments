{
  "nbformat": 4,
  "nbformat_minor": 0,
  "metadata": {
    "colab": {
      "name": "Task#02.ipynb",
      "provenance": []
    },
    "kernelspec": {
      "name": "python3",
      "display_name": "Python 3"
    },
    "language_info": {
      "name": "python"
    }
  },
  "cells": [
    {
      "cell_type": "markdown",
      "metadata": {
        "id": "XXi3uBEw_43V"
      },
      "source": [
        "# Aniruddha Halder\n",
        "# 2017331087"
      ]
    },
    {
      "cell_type": "markdown",
      "metadata": {
        "id": "-FmVsy37wDEz"
      },
      "source": [
        "# Line Coding simulation code is given below\n"
      ]
    },
    {
      "cell_type": "code",
      "metadata": {
        "id": "fTtYMfhZwU8N"
      },
      "source": [
        "\n",
        "import matplotlib.pyplot as plt\n",
        "\n",
        "def unipolar(inp):\n",
        "    inp1=list(inp)\n",
        "    inp1.insert(0,0)\n",
        "    return inp1\n",
        "    \n",
        "\n",
        "def polar_nrz_l(inp):\n",
        "    inp1=list(inp)\n",
        "    inp1.insert(0,0)\n",
        "    inp1=[-1 if i==0 else 1 for i in inp1]\n",
        "    return inp1\n",
        "\n",
        "\n",
        "\n",
        "def polar_rz(inp):\n",
        "    inp1=list(inp)\n",
        "    inp1=[-1 if i==0 else 1 for i in inp1]\n",
        "    li=[]\n",
        "    for i in range(len(inp1)):\n",
        "        li.append(inp1[i])\n",
        "        li.append(0)\n",
        "    return li\n",
        "    \n",
        "\n",
        "\n",
        "\n",
        "def Differential_manchester(inp):\n",
        "    inp1=list(inp)\n",
        "    li,lock,pre=[],False,''\n",
        "    for i in range(len(inp1)):\n",
        "        if inp1[i]==0 and not lock:\n",
        "            li.append(-1)\n",
        "            li.append(-1)\n",
        "            li.append(1)\n",
        "            lock=True\n",
        "            pre='S'\n",
        "        elif inp1[i]==1 and not lock :\n",
        "            li.append(1)\n",
        "            li.append(1)\n",
        "            li.append(-1)\n",
        "            lock=True\n",
        "            pre='Z'\n",
        "        else:\n",
        "            if inp1[i]==0:\n",
        "                if pre=='S':\n",
        "                    li.append(-1);li.append(1)\n",
        "                else:\n",
        "                    li.append(1);li.append(-1)\n",
        "            else:\n",
        "                if pre=='Z':\n",
        "                    pre='S'\n",
        "                    li.append(-1);li.append(1)\n",
        "                else:\n",
        "                    pre='Z'\n",
        "                    li.append(1);li.append(-1)\n",
        "                         \n",
        "    return li                        \n",
        "\n",
        "\n",
        "\n",
        "\n",
        "    \n",
        "\n",
        "\n"
      ],
      "execution_count": 16,
      "outputs": []
    },
    {
      "cell_type": "code",
      "metadata": {
        "id": "vBCerNuu87PD"
      },
      "source": [
        "def plot(li):\n",
        "    plt.subplot(7,1,1)\n",
        "    plt.ylabel(\"Unipolar-NRZ\")\n",
        "    plt.plot(unipolar(li),color='red',drawstyle='steps-pre',marker='>')\n",
        "    plt.subplot(7,1,3)\n",
        "    plt.ylabel(\"P-NRZ-L\")\n",
        "    plt.plot(polar_nrz_l(li),color='blue',drawstyle='steps-pre',marker='>')\n",
        "  \n",
        "    plt.plot(polar_nrz_i(li),color='green',drawstyle='steps-pre',marker='>')\n",
        "    plt.subplot(7,1,5)\n",
        "    plt.ylabel(\"Polar-RZ\")\n",
        "    plt.plot(polar_rz(li),color='red',drawstyle='steps-pre',marker='>')\n",
        "    plt.subplot(7,1,5)\n",
        "   \n",
        "    plt.ylabel(\"Dif_Man\")\n",
        "    plt.plot(Differential_manchester(li),color='red',drawstyle='steps-pre',marker='>')\n",
        "    plt.subplot(7,1,7)"
      ],
      "execution_count": 17,
      "outputs": []
    },
    {
      "cell_type": "code",
      "metadata": {
        "id": "4VY78XT2812B",
        "colab": {
          "base_uri": "https://localhost:8080/",
          "height": 461
        },
        "outputId": "fdff9871-5121-476d-a49b-9c01d6207d94"
      },
      "source": [
        "print(\"Enter the size of Encoded Data : \")\n",
        "size=int(input())\n",
        "li=[]\n",
        "print('Enter the binary bits sequnce of length ',size,' bits : \\n')\n",
        "for i in range(size):\n",
        "  li.append(int(input()))\n",
        "plot(li) "
      ],
      "execution_count": 19,
      "outputs": [
        {
          "name": "stdout",
          "output_type": "stream",
          "text": [
            "Enter the size of Encoded Data : \n",
            "3\n",
            "Enter the binary bits sequnce of length  3  bits : \n",
            "\n",
            "100\n",
            "100\n",
            "100\n"
          ]
        },
        {
          "output_type": "stream",
          "name": "stderr",
          "text": [
            "/usr/local/lib/python3.7/dist-packages/ipykernel_launcher.py:13: MatplotlibDeprecationWarning: Adding an axes using the same arguments as a previous axes currently reuses the earlier instance.  In a future version, a new instance will always be created and returned.  Meanwhile, this warning can be suppressed, and the future behavior ensured, by passing a unique label to each axes instance.\n",
            "  del sys.path[0]\n"
          ]
        },
        {
          "output_type": "display_data",
          "data": {
            "image/png": "[encoded data removed]",
            "text/plain": [
              "<Figure size 432x288 with 4 Axes>"
            ]
          },
          "metadata": {
            "needs_background": "light"
          }
        }
      ]
    },
    {
      "cell_type": "markdown",
      "metadata": {
        "id": "hrijvLeBnTZM"
      },
      "source": [
        "# Block coding section\n"
      ]
    },
    {
      "cell_type": "code",
      "metadata": {
        "id": "BwuMzA6DnZek"
      },
      "source": [
        "\n",
        "'''\n",
        "This part has taken from a github repo.Because this part seemed too hrd for me. :)\n",
        "\n",
        "'''\n",
        "\n",
        "\n",
        "\n",
        "import numpy as np\n",
        "mB = 4\n",
        "nB = 5\n",
        "block_coding_mapping_codes = {\n",
        "# encoding map\n",
        "\"0000\": \"11110\",\n",
        "\"0001\": \"01001\",\n",
        "\"0010\": \"10100\",\n",
        "\"0011\": \"10101\",\n",
        "\"0100\": \"01010\",\n",
        "\"0101\": \"01011\",\n",
        "\"0110\": \"01110\",\n",
        "\"0111\": \"01111\",\n",
        "\"1000\": \"10010\",\n",
        "\"1001\": \"10011\",\n",
        "\"1010\": \"10110\",\n",
        "\"1011\": \"10111\",\n",
        "\"1100\": \"11010\",\n",
        "\"1101\": \"11011\",\n",
        "\"1110\": \"11100\",\n",
        "\"1111\": \"11101\",\n",
        "# decoding map\n",
        "\"11110\": \"0000\",\n",
        "\"01001\": \"0001\",\n",
        "\"10100\": \"0010\",\n",
        "\"10101\": \"0011\",\n",
        "\"01010\": \"0100\",\n",
        "\"01011\": \"0101\",\n",
        "\"01110\": \"0110\",\n",
        "\"01111\": \"0111\",\n",
        "\"10010\": \"1000\",\n",
        "\"10011\": \"1001\",\n",
        "\"10110\": \"1010\",\n",
        "\"10111\": \"1011\",\n",
        "\"11010\": \"1100\",\n",
        "\"11011\": \"1101\",\n",
        "\"11100\": \"1110\",\n",
        "\"11101\": \"1111\",\n",
        "\n",
        "}\n",
        "\n",
        "def get_Mapping_Codes(bits):\n",
        "  return block_coding_mapping_codes[\"\".join(map(str, bits))]\n",
        "  \n",
        "'''\n",
        "bits = sequence of bits to encoded using mB/nB\n",
        "'''\n",
        "def get_MB_NB_Encoding(bits, mB, nB):\n",
        "  # If the length of bits is not multiple of mB, appends extra 0's at the end of the bits(optional)\n",
        "  if len(bits) % mB != 0:\n",
        "    # Necessary bit count to make it multiple of mB\n",
        "    extra_len = (((len(bits)// mB) + 1) * mB) - len(bits)\n",
        "    extra = np.array(np.zeros(extra_len), dtype=int)\n",
        "    bits = np.append(bits, extra)\n",
        "  \n",
        "  encoded_bits_str = \"\"\n",
        "  for i in range(0, len(bits), mB):\n",
        "    encoded_bits_str += get_Mapping_Codes(bits[i:i+mB])\n",
        "  \n",
        "  # Convert the encoded bit string to list of bits\n",
        "  encoded_bits_list = list(encoded_bits_str)\n",
        "  encoded_bits_map = map(int, encoded_bits_list)\n",
        "  encoded_bits = np.array(list(encoded_bits_map))\n",
        "  return encoded_bits\n",
        "\n",
        "'''\n",
        "bits = sequence of bits to decoded using mB/nB\n",
        "'''\n",
        "def get_NB_MB_Decoding(bits, mB, nB):\n",
        "  if len(bits) % nB != 0:\n",
        "    print(\"Invalid length, Decoding Not possible!\")\n",
        "    return\n",
        "  decoded_bits_str = \"\"\n",
        "  for i in range(0, len(bits), nB):\n",
        "    decoded_bits_str += get_Mapping_Codes(bits[i:i+nB])\n",
        "  # Convert the decoded bit string to list of bits\n",
        "  decoded_bits_list = list(decoded_bits_str)\n",
        "  decoded_bits_map = map(int, decoded_bits_list)\n",
        "  decoded_bits = np.array(list(decoded_bits_map))\n",
        "  return decoded_bits"
      ],
      "execution_count": 22,
      "outputs": []
    },
    {
      "cell_type": "code",
      "metadata": {
        "id": "ULflIUTO9fEz"
      },
      "source": [
        ""
      ],
      "execution_count": null,
      "outputs": []
    },
    {
      "cell_type": "code",
      "metadata": {
        "colab": {
          "base_uri": "https://localhost:8080/",
          "height": 282
        },
        "id": "2hIopZDk8Iqp",
        "outputId": "94d9422d-7c56-472b-926b-bfc6622495ac"
      },
      "source": [
        "bits = np.array([1, 0, 1, 1, 0, 1, 0, 0, 1, 0, 1], dtype=int) \n",
        "#bits = get_MB_NB_Encoding(bits, mB, nB)\n",
        "Time = 10e-6   \n",
        "bit_rate = 1/Time  \n",
        "Fs = 4*bit_rate    \n",
        "N = len(bits)   \n",
        "T = np.linspace(0,Time, mB * 100)\n",
        "\n",
        "x = np.array([])\n",
        "last_bit = 1\n",
        "for i in range(N):\n",
        "  if bits[i] == 1:\n",
        "    temp = (-1) * last_bit * np.ones(len(T))\n",
        "    last_bit = -last_bit\n",
        "  else:\n",
        "    temp = last_bit * np.ones(len(T))\n",
        "  x = np.append(x, temp)\n",
        "t = np.linspace(0,N*Time,len(x))\n",
        "\n",
        "plt.plot(t, x)\n",
        "plt.figure(figsize = (25,5))\n",
        "plt.show()\n"
      ],
      "execution_count": 23,
      "outputs": [
        {
          "output_type": "display_data",
          "data": {
            "image/png": "[encoded data removed]",
            "text/plain": [
              "<Figure size 432x288 with 1 Axes>"
            ]
          },
          "metadata": {
            "needs_background": "light"
          }
        },
        {
          "output_type": "display_data",
          "data": {
            "text/plain": [
              "<Figure size 1800x360 with 0 Axes>"
            ]
          },
          "metadata": {}
        }
      ]
    },
    {
      "cell_type": "code",
      "metadata": {
        "id": "iuSs9dqy8pMn"
      },
      "source": [
        ""
      ],
      "execution_count": null,
      "outputs": []
    }
  ]
}