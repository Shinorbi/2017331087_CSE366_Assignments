{
  "nbformat": 4,
  "nbformat_minor": 0,
  "metadata": {
    "colab": {
      "name": "Task#01.ipynb",
      "provenance": []
    },
    "kernelspec": {
      "name": "python3",
      "display_name": "Python 3"
    },
    "language_info": {
      "name": "python"
    }
  },
  "cells": [
    {
      "cell_type": "markdown",
      "metadata": {
        "id": "5-3GAGE65-U8"
      },
      "source": [
        "# Name : Aniruddha Halder\n",
        "# Reg : 2017331087"
      ]
    },
    {
      "cell_type": "code",
      "metadata": {
        "id": "Hr5UOXZYDf0g"
      },
      "source": [
        "import matplotlib.pyplot as plt\n",
        "import numpy as np\n"
      ],
      "execution_count": 1,
      "outputs": []
    },
    {
      "cell_type": "markdown",
      "metadata": {
        "id": "r8WqcIGepFAZ"
      },
      "source": [
        "# A analog signal"
      ]
    },
    {
      "cell_type": "code",
      "metadata": {
        "id": "MDD6CqzcD4_W"
      },
      "source": [
        "fm = 2\n",
        "t = np.arange(0,2,0.01)\n",
        "A= 8\n",
        "x = A*np.sin(2.0*np.pi*fm*t)"
      ],
      "execution_count": 32,
      "outputs": []
    },
    {
      "cell_type": "code",
      "metadata": {
        "colab": {
          "base_uri": "https://localhost:8080/",
          "height": 282
        },
        "id": "rDDzXCEhnubh",
        "outputId": "db001631-95b9-4c59-d668-1bb54b96d421"
      },
      "source": [
        "plt.plot(t,x)\n",
        "plt.show"
      ],
      "execution_count": 33,
      "outputs": [
        {
          "output_type": "execute_result",
          "data": {
            "text/plain": [
              "<function matplotlib.pyplot.show>"
            ]
          },
          "metadata": {},
          "execution_count": 33
        },
        {
          "output_type": "display_data",
          "data": {
            "image/png": "[encoded data removed]",
            "text/plain": [
              "<Figure size 432x288 with 1 Axes>"
            ]
          },
          "metadata": {
            "needs_background": "light"
          }
        }
      ]
    },
    {
      "cell_type": "markdown",
      "metadata": {
        "id": "_rsivv6ArdUm"
      },
      "source": [
        "# Sampling of signal"
      ]
    },
    {
      "cell_type": "code",
      "metadata": {
        "id": "mHerHgSapXd0"
      },
      "source": [
        "n = 18\n",
        "fs = n*fm\n",
        "ts = np.arange(0,2, 1/fs)"
      ],
      "execution_count": 34,
      "outputs": []
    },
    {
      "cell_type": "code",
      "metadata": {
        "id": "OXP3hRc7G2dB"
      },
      "source": [
        "\n",
        "xs = A*np.sin(2*np.pi*fm*ts)"
      ],
      "execution_count": 35,
      "outputs": []
    },
    {
      "cell_type": "code",
      "metadata": {
        "colab": {
          "base_uri": "https://localhost:8080/",
          "height": 354
        },
        "id": "KIE5YD_Zp76q",
        "outputId": "45e23d3f-5a36-40ec-98b3-9c5d45e65dce"
      },
      "source": [
        "plt.stem(ts, xs)\n",
        "plt.figure(figsize=(20,15))\n",
        "plt.show"
      ],
      "execution_count": 36,
      "outputs": [
        {
          "output_type": "stream",
          "name": "stderr",
          "text": [
            "/usr/local/lib/python3.7/dist-packages/ipykernel_launcher.py:1: UserWarning: In Matplotlib 3.3 individual lines on a stem plot will be added as a LineCollection instead of individual lines. This significantly improves the performance of a stem plot. To remove this warning and switch to the new behaviour, set the \"use_line_collection\" keyword argument to True.\n",
            "  \"\"\"Entry point for launching an IPython kernel.\n"
          ]
        },
        {
          "output_type": "execute_result",
          "data": {
            "text/plain": [
              "<function matplotlib.pyplot.show>"
            ]
          },
          "metadata": {},
          "execution_count": 36
        },
        {
          "output_type": "display_data",
          "data": {
            "image/png": "[encoded data removed]",
            "text/plain": [
              "<Figure size 432x288 with 1 Axes>"
            ]
          },
          "metadata": {
            "needs_background": "light"
          }
        },
        {
          "output_type": "display_data",
          "data": {
            "text/plain": [
              "<Figure size 1440x1080 with 0 Axes>"
            ]
          },
          "metadata": {}
        }
      ]
    },
    {
      "cell_type": "code",
      "metadata": {
        "id": "ELUsAveSrk7R"
      },
      "source": [
        ""
      ],
      "execution_count": null,
      "outputs": []
    },
    {
      "cell_type": "markdown",
      "metadata": {
        "id": "CnALzc-lrmDy"
      },
      "source": [
        "# Quantization of sampled signal"
      ]
    },
    {
      "cell_type": "code",
      "metadata": {
        "id": "mPg4SIvTsFUf"
      },
      "source": [
        "b_bit = 3\n",
        "L = 2 ** b_bit\n",
        "vmax=A;\n",
        "vmin=-vmax;\n",
        "delta=(vmax-vmin)/L;\n",
        "partition = np.arange(vmin, vmax, delta)\n",
        "codec= np.arange(vmin-(delta/2),vmax+(delta/2), delta) \n",
        "\n"
      ],
      "execution_count": 47,
      "outputs": []
    },
    {
      "cell_type": "code",
      "metadata": {
        "id": "-9CCWK7lsOwY"
      },
      "source": [
        "xq = np.copy(xs)\n",
        "encode = np.copy(xs)\n",
        "\n",
        "for i in range(len(partition)):\n",
        "  left = codec[i]\n",
        "  right = codec[i + 1]\n",
        "  for j in range(len(xs)):\n",
        "    # left <= xs[i] < right\n",
        "    if(i != len(partition) - 1 and left <= xs[j] and xs[j] < right):\n",
        "      xq[j] = partition[i]\n",
        "      encode[j] = i\n",
        "    # left <= xs[i], only for last portion\n",
        "    if(i == len(partition) - 1 and left <= xs[j]):\n",
        "      xq[j] = partition[i]\n",
        "      encode[j] = i\n"
      ],
      "execution_count": 48,
      "outputs": []
    },
    {
      "cell_type": "code",
      "metadata": {
        "colab": {
          "base_uri": "https://localhost:8080/",
          "height": 320
        },
        "id": "ACjA4HBKsTBu",
        "outputId": "c0f9cb41-19ec-4b64-fa07-dc28238288f4"
      },
      "source": [
        "for i in range(len(xq)):\n",
        "    xq[i] = xq[i] + (delta / 2) \n",
        "\n",
        "plt.stem(ts, xq)\n",
        "plt.show()"
      ],
      "execution_count": 49,
      "outputs": [
        {
          "output_type": "stream",
          "name": "stderr",
          "text": [
            "/usr/local/lib/python3.7/dist-packages/ipykernel_launcher.py:4: UserWarning: In Matplotlib 3.3 individual lines on a stem plot will be added as a LineCollection instead of individual lines. This significantly improves the performance of a stem plot. To remove this warning and switch to the new behaviour, set the \"use_line_collection\" keyword argument to True.\n",
            "  after removing the cwd from sys.path.\n"
          ]
        },
        {
          "output_type": "display_data",
          "data": {
            "image/png": "[encoded data removed]",
            "text/plain": [
              "<Figure size 432x288 with 1 Axes>"
            ]
          },
          "metadata": {
            "needs_background": "light"
          }
        }
      ]
    },
    {
      "cell_type": "markdown",
      "metadata": {
        "id": "-xtfnfLJsbPq"
      },
      "source": [
        "# Encoding the signal to digital signal"
      ]
    },
    {
      "cell_type": "code",
      "metadata": {
        "colab": {
          "base_uri": "https://localhost:8080/"
        },
        "id": "wHmvs7Vztrqt",
        "outputId": "b907d8d3-deec-49ce-a23d-39e2299d3e45"
      },
      "source": [
        "print(encode)"
      ],
      "execution_count": 44,
      "outputs": [
        {
          "output_type": "stream",
          "name": "stdout",
          "text": [
            "[4. 5. 7. 7. 7. 7. 7. 7. 5. 4. 3. 1. 1. 0. 0. 1. 1. 3. 4. 5. 7. 7. 7. 7.\n",
            " 7. 7. 5. 4. 3. 1. 1. 0. 0. 1. 1. 3. 4. 5. 7. 7. 7. 7. 7. 7. 5. 4. 3. 1.\n",
            " 1. 0. 0. 1. 1. 3. 4. 5. 7. 7. 7. 7. 7. 7. 5. 4. 3. 1. 1. 0. 0. 1. 1. 3.]\n"
          ]
        }
      ]
    },
    {
      "cell_type": "code",
      "metadata": {
        "id": "IbJrzrN5HUXB"
      },
      "source": [
        "def decimalToBinary(val, bit):\n",
        "    binary = \"{0:b}\".format(int(val))\n",
        "    if(len(binary) > bit):\n",
        "      return binary\n",
        "    extra_zero = bit - len(binary)\n",
        "    return extra_zero * \"0\" + binary"
      ],
      "execution_count": 50,
      "outputs": []
    },
    {
      "cell_type": "code",
      "metadata": {
        "id": "TTW_wL1EHyb6",
        "colab": {
          "base_uri": "https://localhost:8080/",
          "height": 320
        },
        "outputId": "72a66bd4-684c-45e8-9ab8-117497ef61c4"
      },
      "source": [
        "binary_code = []\n",
        "for i in range(len(encode)):\n",
        "  binary = decimalToBinary(encode[i], b_bit)\n",
        "  for j in range(len(binary)):\n",
        "    binary_code.append(binary[j])\n",
        "\n",
        "pos = np.arange(len(binary_code))\n",
        "plt.figure(figsize=(25, 5))\n",
        "#plt.ylim(-1, 2)\n",
        "plt.step(pos, binary_code)\n",
        "plt.show()"
      ],
      "execution_count": 55,
      "outputs": [
        {
          "output_type": "display_data",
          "data": {
            "image/png": "[encoded data removed]",
            "text/plain": [
              "<Figure size 1800x360 with 1 Axes>"
            ]
          },
          "metadata": {
            "needs_background": "light"
          }
        }
      ]
    },
    {
      "cell_type": "code",
      "metadata": {
        "id": "oDCeus8It-1v"
      },
      "source": [
        ""
      ],
      "execution_count": null,
      "outputs": []
    },
    {
      "cell_type": "code",
      "metadata": {
        "colab": {
          "base_uri": "https://localhost:8080/"
        },
        "id": "cFRqs5x2t_Fb",
        "outputId": "ece70d69-acf5-49d9-d939-70ee5f70dbb9"
      },
      "source": [
        "print(binary_code)"
      ],
      "execution_count": 56,
      "outputs": [
        {
          "output_type": "stream",
          "name": "stdout",
          "text": [
            "['1', '0', '0', '1', '0', '1', '1', '1', '1', '1', '1', '1', '1', '1', '1', '1', '1', '1', '1', '1', '1', '1', '1', '1', '1', '0', '1', '1', '0', '0', '0', '1', '1', '0', '0', '1', '0', '0', '1', '0', '0', '0', '0', '0', '0', '0', '0', '1', '0', '0', '1', '0', '1', '1', '1', '0', '0', '1', '0', '1', '1', '1', '1', '1', '1', '1', '1', '1', '1', '1', '1', '1', '1', '1', '1', '1', '1', '1', '1', '0', '1', '1', '0', '0', '0', '1', '1', '0', '0', '1', '0', '0', '1', '0', '0', '0', '0', '0', '0', '0', '0', '1', '0', '0', '1', '0', '1', '1', '1', '0', '0', '1', '0', '1', '1', '1', '1', '1', '1', '1', '1', '1', '1', '1', '1', '1', '1', '1', '1', '1', '1', '1', '1', '0', '1', '1', '0', '0', '0', '1', '1', '0', '0', '1', '0', '0', '1', '0', '0', '0', '0', '0', '0', '0', '0', '1', '0', '0', '1', '0', '1', '1', '1', '0', '0', '1', '0', '1', '1', '1', '1', '1', '1', '1', '1', '1', '1', '1', '1', '1', '1', '1', '1', '1', '1', '1', '1', '0', '1', '1', '0', '0', '0', '1', '1', '0', '0', '1', '0', '0', '1', '0', '0', '0', '0', '0', '0', '0', '0', '1', '0', '0', '1', '0', '1', '1']\n"
          ]
        }
      ]
    },
    {
      "cell_type": "code",
      "metadata": {
        "id": "7tPX-LqeuCAQ"
      },
      "source": [
        ""
      ],
      "execution_count": null,
      "outputs": []
    }
  ]
}